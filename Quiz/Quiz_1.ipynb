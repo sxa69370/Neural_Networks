{
 "cells": [
  {
   "cell_type": "code",
   "execution_count": 7,
   "id": "e4af9251-4091-442c-bb06-011b990cfa75",
   "metadata": {},
   "outputs": [],
   "source": [
    "from keras import Sequential\n",
    "from keras.datasets import mnist\n",
    "import numpy as np\n",
    "from keras.layers import Dense, Conv2D, MaxPooling2D, Flatten\n",
    "from keras.utils import to_categorical\n",
    "from keras.callbacks import ReduceLROnPlateau\n",
    "from keras.optimizers import Adam, RMSprop, SGD\n",
    "from sklearn.model_selection import ParameterGrid\n",
    "\n"
   ]
  },
  {
   "cell_type": "code",
   "execution_count": 8,
   "id": "bf247141-c5a2-4798-a6d7-f95a4d3ebef1",
   "metadata": {},
   "outputs": [],
   "source": [
    "# Load the MNIST dataset\n",
    "(x_train, y_train), (x_test, y_test) = mnist.load_data()\n",
    "\n",
    "# Reshape the data to fit the CNN input format and normalize\n",
    "x_train = x_train.reshape(x_train.shape[0], 28, 28, 1).astype('float32') / 255\n",
    "x_test = x_test.reshape(x_test.shape[0], 28, 28, 1).astype('float32') / 255\n",
    "\n",
    "# One-hot encode the labels\n",
    "y_train = to_categorical(y_train, 10)\n",
    "y_test = to_categorical(y_test, 10)"
   ]
  },
  {
   "cell_type": "code",
   "execution_count": 9,
   "id": "313f21a8-92c1-4f3e-aee5-5d374e8531a1",
   "metadata": {},
   "outputs": [],
   "source": [
    "# Define the CNN model\n",
    "model = Sequential([\n",
    "    Conv2D(32, (3, 3), activation='relu', input_shape=(28, 28, 1)),\n",
    "    MaxPooling2D((2, 2)),\n",
    "    Conv2D(64, (3, 3), activation='relu'),\n",
    "    MaxPooling2D((2, 2)),\n",
    "    Flatten(),\n",
    "    Dense(64, activation='relu'),\n",
    "    Dense(10, activation='softmax')\n",
    "])\n",
    "\n",
    "# Compile the model\n",
    "model.compile(optimizer='adam', loss='categorical_crossentropy', metrics=['accuracy'])"
   ]
  },
  {
   "cell_type": "code",
   "execution_count": 10,
   "id": "62a1120f-1601-4f03-9818-1cb2b36b4604",
   "metadata": {},
   "outputs": [
    {
     "name": "stdout",
     "output_type": "stream",
     "text": [
      "Epoch 1/10\n",
      "469/469 [==============================] - 42s 86ms/step - loss: 0.2305 - accuracy: 0.9334 - val_loss: 0.0628 - val_accuracy: 0.9806\n",
      "Epoch 2/10\n",
      "469/469 [==============================] - 37s 79ms/step - loss: 0.0612 - accuracy: 0.9813 - val_loss: 0.0574 - val_accuracy: 0.9819\n",
      "Epoch 3/10\n",
      "469/469 [==============================] - 44s 94ms/step - loss: 0.0437 - accuracy: 0.9867 - val_loss: 0.0438 - val_accuracy: 0.9867\n",
      "Epoch 4/10\n",
      "469/469 [==============================] - 37s 79ms/step - loss: 0.0347 - accuracy: 0.9892 - val_loss: 0.0344 - val_accuracy: 0.9885\n",
      "Epoch 5/10\n",
      "469/469 [==============================] - 38s 82ms/step - loss: 0.0274 - accuracy: 0.9916 - val_loss: 0.0299 - val_accuracy: 0.9896\n",
      "Epoch 6/10\n",
      "469/469 [==============================] - 38s 82ms/step - loss: 0.0239 - accuracy: 0.9923 - val_loss: 0.0298 - val_accuracy: 0.9908\n",
      "Epoch 7/10\n",
      "469/469 [==============================] - 41s 88ms/step - loss: 0.0176 - accuracy: 0.9943 - val_loss: 0.0333 - val_accuracy: 0.9899\n",
      "Epoch 8/10\n",
      "469/469 [==============================] - 37s 80ms/step - loss: 0.0156 - accuracy: 0.9951 - val_loss: 0.0266 - val_accuracy: 0.9916\n",
      "Epoch 9/10\n",
      "469/469 [==============================] - 37s 80ms/step - loss: 0.0144 - accuracy: 0.9954 - val_loss: 0.0298 - val_accuracy: 0.9907\n",
      "Epoch 10/10\n",
      "469/469 [==============================] - 48s 103ms/step - loss: 0.0109 - accuracy: 0.9966 - val_loss: 0.0271 - val_accuracy: 0.9912\n"
     ]
    }
   ],
   "source": [
    "# Train the model\n",
    "history = model.fit(x_train, y_train, epochs=10, batch_size=128, validation_data=(x_test, y_test))\n"
   ]
  },
  {
   "cell_type": "code",
   "execution_count": 11,
   "id": "49a40c88-6258-4d6b-8568-a0f0a4a91390",
   "metadata": {},
   "outputs": [
    {
     "name": "stdout",
     "output_type": "stream",
     "text": [
      "313/313 [==============================] - 4s 12ms/step - loss: 0.0271 - accuracy: 0.9912\n",
      "Test Accuracy: 0.9911999702453613\n"
     ]
    }
   ],
   "source": [
    "# Evaluate the model\n",
    "loss, accuracy = model.evaluate(x_test, y_test)\n",
    "print(\"Test Accuracy:\", accuracy)\n"
   ]
  },
  {
   "cell_type": "code",
   "execution_count": null,
   "id": "20ccf624-a4ec-41a7-8266-8b2d47fdc0d5",
   "metadata": {},
   "outputs": [
    {
     "name": "stdout",
     "output_type": "stream",
     "text": [
      "Epoch 1/10\n",
      "469/469 [==============================] - 56s 119ms/step - loss: 0.0082 - accuracy: 0.9975 - val_loss: 0.0280 - val_accuracy: 0.9924 - lr: 0.0010\n",
      "Epoch 2/10\n",
      "398/469 [========================>.....] - ETA: 6s - loss: 0.0077 - accuracy: 0.9976"
     ]
    }
   ],
   "source": [
    "# Define the callback\n",
    "reduce_lr = ReduceLROnPlateau(monitor='val_loss', factor=0.2, patience=3, min_lr=0.0001)\n",
    "\n",
    "# Train the model with callback\n",
    "history = model.fit(x_train, y_train, epochs=10, batch_size=128, validation_data=(x_test, y_test), callbacks=[reduce_lr])\n"
   ]
  },
  {
   "cell_type": "code",
   "execution_count": null,
   "id": "71779919-a5cd-4bb8-a13e-5199c436a057",
   "metadata": {},
   "outputs": [],
   "source": [
    "import matplotlib.pyplot as plt\n",
    "\n",
    "# Plot training & validation accuracy values\n",
    "plt.plot(history.history['accuracy'])\n",
    "plt.plot(history.history['val_accuracy'])\n",
    "plt.title('Model accuracy')\n",
    "plt.ylabel('Accuracy')\n",
    "plt.xlabel('Epoch')\n",
    "plt.legend(['Train', 'Test'], loc='upper left')\n",
    "plt.show()\n",
    "\n",
    "# Plot training & validation loss values\n",
    "plt.plot(history.history['loss'])\n",
    "plt.plot(history.history['val_loss'])\n",
    "plt.title('Model loss')\n",
    "plt.ylabel('Loss')\n",
    "plt.xlabel('Epoch')\n",
    "plt.legend(['Train', 'Test'], loc='upper left')\n",
    "plt.show()\n"
   ]
  }
 ],
 "metadata": {
  "kernelspec": {
   "display_name": "Python 3 (ipykernel)",
   "language": "python",
   "name": "python3"
  },
  "language_info": {
   "codemirror_mode": {
    "name": "ipython",
    "version": 3
   },
   "file_extension": ".py",
   "mimetype": "text/x-python",
   "name": "python",
   "nbconvert_exporter": "python",
   "pygments_lexer": "ipython3",
   "version": "3.9.13"
  }
 },
 "nbformat": 4,
 "nbformat_minor": 5
}
